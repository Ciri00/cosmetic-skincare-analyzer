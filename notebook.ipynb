{
 "cells": [
  {
   "cell_type": "markdown",
   "metadata": {
    "dc": {
     "key": "4"
    },
    "deletable": false,
    "editable": false,
    "run_control": {
     "frozen": true
    },
    "tags": [
     "context"
    ]
   },
   "source": [
    "## 1. Cosmetics, chemicals... it's complicated\n",
    "<p>Whenever I want to try a new cosmetic item, it's so difficult to choose. It's actually more than difficult. It's sometimes scary because new items that I've never tried end up giving me skin trouble. We know the information we need is on the back of each product, but it's really hard to interpret those ingredient lists unless you're a chemist. You may be able to relate to this situation.</p>\n",
    "<p><img src=\"https://assets.datacamp.com/production/project_695/img/image_1.png\" style=\"width:600px;height:400px;\"></p>\n",
    "<p>So instead of buying and hoping for the best, why don't we use data science to help us predict which products may be good fits for us? In this notebook, we are going to create a content-based recommendation system where the 'content' will be the chemical components of cosmetics. Specifically, we will process ingredient lists for 1472 cosmetics on Sephora via <a href=\"https://en.wikipedia.org/wiki/Word_embedding\">word embedding</a>, then visualize ingredient similarity using a machine learning method called t-SNE and an interactive visualization library called Bokeh. Let's inspect our data first.</p>"
   ]
  },
  {
   "cell_type": "code",
   "execution_count": 1,
   "metadata": {},
   "outputs": [],
   "source": [
    "# Imports and Setup\n",
    "import pandas as pd\n",
    "import numpy as np\n",
    "from sklearn.manifold import TSNE\n",
    "from sklearn.metrics.pairwise import cosine_similarity\n",
    "from sklearn.cluster import KMeans\n",
    "from bokeh.plotting import figure, show, output_notebook\n",
    "from bokeh.models import ColumnDataSource, HoverTool, CategoricalColorMapper, Div\n",
    "from bokeh.palettes import Category10\n",
    "from bokeh.layouts import column\n",
    "from collections import Counter\n",
    "import matplotlib.pyplot as plt\n",
    "from ipywidgets import interact, widgets\n",
    "from bokeh.io import push_notebook\n",
    "import seaborn as sns\n",
    "from matplotlib_venn import venn2\n",
    "from IPython.display import display"
   ]
  },
  {
   "cell_type": "code",
   "execution_count": 2,
   "metadata": {
    "dc": {
     "key": "4"
    }
   },
   "outputs": [
    {
     "name": "stdout",
     "output_type": "stream",
     "text": [
      "Dataset Shape: (1472, 11)\n"
     ]
    },
    {
     "data": {
      "text/html": [
       "<div>\n",
       "<style scoped>\n",
       "    .dataframe tbody tr th:only-of-type {\n",
       "        vertical-align: middle;\n",
       "    }\n",
       "\n",
       "    .dataframe tbody tr th {\n",
       "        vertical-align: top;\n",
       "    }\n",
       "\n",
       "    .dataframe thead th {\n",
       "        text-align: right;\n",
       "    }\n",
       "</style>\n",
       "<table border=\"1\" class=\"dataframe\">\n",
       "  <thead>\n",
       "    <tr style=\"text-align: right;\">\n",
       "      <th></th>\n",
       "      <th>Label</th>\n",
       "      <th>Brand</th>\n",
       "      <th>Name</th>\n",
       "      <th>Price</th>\n",
       "      <th>Rank</th>\n",
       "      <th>Ingredients</th>\n",
       "      <th>Combination</th>\n",
       "      <th>Dry</th>\n",
       "      <th>Normal</th>\n",
       "      <th>Oily</th>\n",
       "      <th>Sensitive</th>\n",
       "    </tr>\n",
       "  </thead>\n",
       "  <tbody>\n",
       "    <tr>\n",
       "      <th>627</th>\n",
       "      <td>Treatment</td>\n",
       "      <td>BIOSSANCE</td>\n",
       "      <td>Squalane + Phyto-Retinol Serum</td>\n",
       "      <td>78</td>\n",
       "      <td>4.3</td>\n",
       "      <td>Water, Squalane, Niacinamide, Sodium Acrylates...</td>\n",
       "      <td>1</td>\n",
       "      <td>1</td>\n",
       "      <td>1</td>\n",
       "      <td>1</td>\n",
       "      <td>1</td>\n",
       "    </tr>\n",
       "    <tr>\n",
       "      <th>753</th>\n",
       "      <td>Treatment</td>\n",
       "      <td>SHISEIDO</td>\n",
       "      <td>Bio-Performance LiftDynamic Serum</td>\n",
       "      <td>98</td>\n",
       "      <td>3.9</td>\n",
       "      <td>Water, Dimethicone, Butylene Glycol, Glycerin,...</td>\n",
       "      <td>0</td>\n",
       "      <td>0</td>\n",
       "      <td>0</td>\n",
       "      <td>0</td>\n",
       "      <td>0</td>\n",
       "    </tr>\n",
       "    <tr>\n",
       "      <th>999</th>\n",
       "      <td>Face Mask</td>\n",
       "      <td>AMOREPACIFIC</td>\n",
       "      <td>TIME RESPONSE Vintage Wash-off Masque</td>\n",
       "      <td>170</td>\n",
       "      <td>5.0</td>\n",
       "      <td>Camellia Sinensis Leaf Water, Propanediol, Gly...</td>\n",
       "      <td>1</td>\n",
       "      <td>1</td>\n",
       "      <td>1</td>\n",
       "      <td>1</td>\n",
       "      <td>0</td>\n",
       "    </tr>\n",
       "    <tr>\n",
       "      <th>570</th>\n",
       "      <td>Cleanser</td>\n",
       "      <td>ERNO LASZLO</td>\n",
       "      <td>Pore Refining Detox Double Cleanse</td>\n",
       "      <td>55</td>\n",
       "      <td>5.0</td>\n",
       "      <td>Water, Propanediol, Sodium C14-16 Olefin Sulfo...</td>\n",
       "      <td>1</td>\n",
       "      <td>1</td>\n",
       "      <td>1</td>\n",
       "      <td>1</td>\n",
       "      <td>1</td>\n",
       "    </tr>\n",
       "    <tr>\n",
       "      <th>991</th>\n",
       "      <td>Face Mask</td>\n",
       "      <td>ALGENIST</td>\n",
       "      <td>PERFECT Clarifying Pore Corrector Mask</td>\n",
       "      <td>55</td>\n",
       "      <td>4.5</td>\n",
       "      <td>Water, Kaolin, Glycerin, Ammonium Acryloyldime...</td>\n",
       "      <td>0</td>\n",
       "      <td>0</td>\n",
       "      <td>0</td>\n",
       "      <td>0</td>\n",
       "      <td>0</td>\n",
       "    </tr>\n",
       "  </tbody>\n",
       "</table>\n",
       "</div>"
      ],
      "text/plain": [
       "         Label         Brand                                    Name  Price  \\\n",
       "627  Treatment     BIOSSANCE          Squalane + Phyto-Retinol Serum     78   \n",
       "753  Treatment      SHISEIDO       Bio-Performance LiftDynamic Serum     98   \n",
       "999  Face Mask  AMOREPACIFIC   TIME RESPONSE Vintage Wash-off Masque    170   \n",
       "570   Cleanser   ERNO LASZLO      Pore Refining Detox Double Cleanse     55   \n",
       "991  Face Mask      ALGENIST  PERFECT Clarifying Pore Corrector Mask     55   \n",
       "\n",
       "     Rank                                        Ingredients  Combination  \\\n",
       "627   4.3  Water, Squalane, Niacinamide, Sodium Acrylates...            1   \n",
       "753   3.9  Water, Dimethicone, Butylene Glycol, Glycerin,...            0   \n",
       "999   5.0  Camellia Sinensis Leaf Water, Propanediol, Gly...            1   \n",
       "570   5.0  Water, Propanediol, Sodium C14-16 Olefin Sulfo...            1   \n",
       "991   4.5  Water, Kaolin, Glycerin, Ammonium Acryloyldime...            0   \n",
       "\n",
       "     Dry  Normal  Oily  Sensitive  \n",
       "627    1       1     1          1  \n",
       "753    0       0     0          0  \n",
       "999    1       1     1          0  \n",
       "570    1       1     1          1  \n",
       "991    0       0     0          0  "
      ]
     },
     "metadata": {},
     "output_type": "display_data"
    },
    {
     "name": "stdout",
     "output_type": "stream",
     "text": [
      "\n",
      "Product types (Label counts):\n",
      "Label\n",
      "Moisturizer    298\n",
      "Cleanser       281\n",
      "Face Mask      266\n",
      "Treatment      248\n",
      "Eye cream      209\n",
      "Sun protect    170\n",
      "Name: count, dtype: int64\n"
     ]
    }
   ],
   "source": [
    "# Step 1: Load and Inspect the Dataset\n",
    "df = pd.read_csv(\"cosmetics.csv\")\n",
    "print(f\"Dataset Shape: {df.shape}\")\n",
    "display(df.sample(5))\n",
    "print(\"\\nProduct types (Label counts):\")\n",
    "print(df['Label'].value_counts())"
   ]
  },
  {
   "cell_type": "markdown",
   "metadata": {
    "dc": {
     "key": "12"
    },
    "deletable": false,
    "editable": false,
    "run_control": {
     "frozen": true
    },
    "tags": [
     "context"
    ]
   },
   "source": [
    "## 2. Focus on one product category and one skin type\n",
    "<p>There are six categories of product in our data (<strong><em>moisturizers, cleansers, face masks, eye creams</em></strong>, and <strong><em>sun protection</em></strong>) and there are five different skin types (<strong><em>combination, dry, normal, oily</em></strong> and <strong><em>sensitive</em></strong>). Because individuals have different product needs as well as different skin types, let's set up our workflow so its outputs (a t-SNE model and a visualization of that model) can be customized. For the example in this notebook, let's focus in on moisturizers for those with dry skin by filtering the data accordingly.</p>"
   ]
  },
  {
   "cell_type": "code",
   "execution_count": 3,
   "metadata": {
    "dc": {
     "key": "12"
    }
   },
   "outputs": [
    {
     "name": "stdout",
     "output_type": "stream",
     "text": [
      "Filtered Moisturizers for Dry Skin: 190 items\n"
     ]
    }
   ],
   "source": [
    "# Step 2: Filter for Moisturizers Suitable for Dry Skin\n",
    "moisturizers = df[df['Label'] == \"Moisturizer\"]\n",
    "moisturizers_dry = moisturizers[moisturizers['Dry'] == 1].reset_index(drop=True)\n",
    "print(f\"Filtered Moisturizers for Dry Skin: {moisturizers_dry.shape[0]} items\")\n"
   ]
  },
  {
   "cell_type": "markdown",
   "metadata": {
    "dc": {
     "key": "19"
    },
    "deletable": false,
    "editable": false,
    "run_control": {
     "frozen": true
    },
    "tags": [
     "context"
    ]
   },
   "source": [
    "## 3. Tokenizing the ingredients\n",
    "<p>To get to our end goal of comparing ingredients in each product, we first need to do some preprocessing tasks and bookkeeping of the actual words in each product's ingredients list. The first step will be tokenizing the list of ingredients in <code>Ingredients</code> column. After splitting them into tokens, we'll make a binary bag of words. Then we will create a dictionary with the tokens, <code>ingredient_idx</code>, which will have the following format:</p>\n",
    "<p>{ <strong><em>\"ingredient\"</em></strong>: index value, … }</p>"
   ]
  },
  {
   "cell_type": "code",
   "execution_count": 4,
   "metadata": {
    "dc": {
     "key": "19"
    }
   },
   "outputs": [],
   "source": [
    "# Tokenize Ingredient Lists\n",
    "corpus = []\n",
    "ingredient_idx = {}\n",
    "idx = 0\n",
    "\n",
    "for item in moisturizers_dry['Ingredients']:\n",
    "    tokens = item.lower().split(', ')\n",
    "    corpus.append(tokens)\n",
    "    for token in tokens:\n",
    "        if token not in ingredient_idx:\n",
    "            ingredient_idx[token] = idx\n",
    "            idx += 1"
   ]
  },
  {
   "cell_type": "markdown",
   "metadata": {
    "dc": {
     "key": "26"
    },
    "deletable": false,
    "editable": false,
    "run_control": {
     "frozen": true
    },
    "tags": [
     "context"
    ]
   },
   "source": [
    "## 4. Initializing a document-term matrix (DTM)\n",
    "<p>The next step is making a document-term matrix (DTM). Here each cosmetic product will correspond to a document, and each chemical composition will correspond to a term. This means we can think of the matrix as a <em>“cosmetic-ingredient”</em> matrix. The size of the matrix should be as the picture shown below.\n",
    "<img src=\"https://assets.datacamp.com/production/project_695/img/image_2.PNG\" style=\"width:600px;height:250px;\">\n",
    "To create this matrix, we'll first make an empty matrix filled with zeros. The length of the matrix is the total number of cosmetic products in the data. The width of the matrix is the total number of ingredients. After initializing this empty matrix, we'll fill it in the following tasks. </p>"
   ]
  },
  {
   "cell_type": "code",
   "execution_count": 5,
   "metadata": {
    "dc": {
     "key": "26"
    }
   },
   "outputs": [],
   "source": [
    "# Initialize Document-Term Matrix (Binary Matrix)\n",
    "M = len(corpus)\n",
    "N = len(ingredient_idx)\n",
    "A = np.zeros((M, N))"
   ]
  },
  {
   "cell_type": "markdown",
   "metadata": {
    "dc": {
     "key": "33"
    },
    "deletable": false,
    "editable": false,
    "run_control": {
     "frozen": true
    },
    "tags": [
     "context"
    ]
   },
   "source": [
    "## 5. Creating a counter function\n",
    "<p>Before we can fill the matrix, let's create a function to count the tokens (i.e., an ingredients list) for each row. Our end goal is to fill the matrix with 1 or 0: if an ingredient is in a cosmetic, the value is 1. If not, it remains 0. The name of this function, <code>oh_encoder</code>, will become clear next.</p>"
   ]
  },
  {
   "cell_type": "code",
   "execution_count": 6,
   "metadata": {
    "dc": {
     "key": "33"
    }
   },
   "outputs": [],
   "source": [
    "# One-Hot Encoder Function\n",
    "def oh_encoder(tokens):\n",
    "    x = np.zeros(N)\n",
    "    for token in tokens:\n",
    "        if token in ingredient_idx:\n",
    "            x[ingredient_idx[token]] = 1\n",
    "    return x"
   ]
  },
  {
   "cell_type": "markdown",
   "metadata": {
    "dc": {
     "key": "40"
    },
    "deletable": false,
    "editable": false,
    "run_control": {
     "frozen": true
    },
    "tags": [
     "context"
    ]
   },
   "source": [
    "## 6. The Cosmetic-Ingredient matrix!\n",
    "<p>Now we'll apply the <code>oh_encoder()</code> functon to the tokens in <code>corpus</code> and set the values at each row of this matrix. So the result will tell us what ingredients each item is composed of. For example, if a cosmetic item contains <em>water, niacin, decyl aleate</em> and <em>sh-polypeptide-1</em>, the outcome of this item will be as follows. \n",
    "<img src=\"https://assets.datacamp.com/production/project_695/img/image_3.PNG\" style=\"width:800px;height:400px;\">\n",
    "This is what we called one-hot encoding. By encoding each ingredient in the items, the <em>Cosmetic-Ingredient</em> matrix will be filled with binary values. </p>"
   ]
  },
  {
   "cell_type": "code",
   "execution_count": 7,
   "metadata": {
    "dc": {
     "key": "40"
    }
   },
   "outputs": [],
   "source": [
    "#  Fill in the Matrix\n",
    "for i, tokens in enumerate(corpus):\n",
    "    A[i] = oh_encoder(tokens)"
   ]
  },
  {
   "cell_type": "markdown",
   "metadata": {
    "dc": {
     "key": "47"
    },
    "deletable": false,
    "editable": false,
    "run_control": {
     "frozen": true
    },
    "tags": [
     "context"
    ]
   },
   "source": [
    "## 7. Dimension reduction with t-SNE\n",
    "<p>The dimensions of the existing matrix is (190, 2233), which means there are 2233 features in our data. For visualization, we should downsize this into two dimensions. We'll use t-SNE for reducing the dimension of the data here.</p>\n",
    "<p><strong><a href=\"https://en.wikipedia.org/wiki/T-distributed_stochastic_neighbor_embedding\">T-distributed Stochastic Neighbor Embedding (t-SNE)</a></strong> is a nonlinear dimensionality reduction technique that is well-suited for embedding high-dimensional data for visualization in a low-dimensional space of two or three dimensions. Specifically, this technique can reduce the dimension of data while keeping the similarities between the instances. This enables us to make a plot on the coordinate plane, which can be said as vectorizing. All of these cosmetic items in our data will be vectorized into two-dimensional coordinates, and the distances between the points will indicate the similarities between the items. </p>"
   ]
  },
  {
   "cell_type": "code",
   "execution_count": 8,
   "metadata": {},
   "outputs": [],
   "source": [
    "# Apply t-SNE for Dimensionality Reduction\n",
    "model = TSNE(n_components=2, learning_rate=200, random_state=42)\n",
    "tsne_features = model.fit_transform(A)\n",
    "\n",
    "# Add coordinates\n",
    "moisturizers_dry['X'] = tsne_features[:, 0].astype(float)\n",
    "moisturizers_dry['Y'] = tsne_features[:, 1].astype(float)\n"
   ]
  },
  {
   "cell_type": "markdown",
   "metadata": {
    "dc": {
     "key": "55"
    },
    "deletable": false,
    "editable": false,
    "run_control": {
     "frozen": true
    },
    "tags": [
     "context"
    ]
   },
   "source": [
    "## 8. Let's map the items with Bokeh\n",
    "<p>We are now ready to start creating our plot. With the t-SNE values, we can plot all our items on the coordinate plane. And the coolest part here is that it will also show us the name, the brand, the price and the rank of each item. Let's make a scatter plot using Bokeh and add a hover tool to show that information. Note that we won't display the plot yet as we will make some more additions to it.</p>"
   ]
  },
  {
   "cell_type": "code",
   "execution_count": 9,
   "metadata": {},
   "outputs": [
    {
     "data": {
      "text/html": [
       "<div style=\"display: table;\"><div style=\"display: table-row;\"><div style=\"display: table-cell;\"><b title=\"bokeh.models.renderers.glyph_renderer.GlyphRenderer\">GlyphRenderer</b>(</div><div style=\"display: table-cell;\">id&nbsp;=&nbsp;'p1047', <span id=\"p1051\" style=\"cursor: pointer;\">&hellip;)</span></div></div><div class=\"p1050\" style=\"display: none;\"><div style=\"display: table-cell;\"></div><div style=\"display: table-cell;\">context_menu&nbsp;=&nbsp;None,</div></div><div class=\"p1050\" style=\"display: none;\"><div style=\"display: table-cell;\"></div><div style=\"display: table-cell;\">coordinates&nbsp;=&nbsp;None,</div></div><div class=\"p1050\" style=\"display: none;\"><div style=\"display: table-cell;\"></div><div style=\"display: table-cell;\">css_classes&nbsp;=&nbsp;[],</div></div><div class=\"p1050\" style=\"display: none;\"><div style=\"display: table-cell;\"></div><div style=\"display: table-cell;\">css_variables&nbsp;=&nbsp;{},</div></div><div class=\"p1050\" style=\"display: none;\"><div style=\"display: table-cell;\"></div><div style=\"display: table-cell;\">data_source&nbsp;=&nbsp;ColumnDataSource(id='p1003', ...),</div></div><div class=\"p1050\" style=\"display: none;\"><div style=\"display: table-cell;\"></div><div style=\"display: table-cell;\">glyph&nbsp;=&nbsp;Scatter(id='p1044', ...),</div></div><div class=\"p1050\" style=\"display: none;\"><div style=\"display: table-cell;\"></div><div style=\"display: table-cell;\">group&nbsp;=&nbsp;None,</div></div><div class=\"p1050\" style=\"display: none;\"><div style=\"display: table-cell;\"></div><div style=\"display: table-cell;\">hover_glyph&nbsp;=&nbsp;None,</div></div><div class=\"p1050\" style=\"display: none;\"><div style=\"display: table-cell;\"></div><div style=\"display: table-cell;\">html_attributes&nbsp;=&nbsp;{},</div></div><div class=\"p1050\" style=\"display: none;\"><div style=\"display: table-cell;\"></div><div style=\"display: table-cell;\">html_id&nbsp;=&nbsp;None,</div></div><div class=\"p1050\" style=\"display: none;\"><div style=\"display: table-cell;\"></div><div style=\"display: table-cell;\">js_event_callbacks&nbsp;=&nbsp;{},</div></div><div class=\"p1050\" style=\"display: none;\"><div style=\"display: table-cell;\"></div><div style=\"display: table-cell;\">js_property_callbacks&nbsp;=&nbsp;{},</div></div><div class=\"p1050\" style=\"display: none;\"><div style=\"display: table-cell;\"></div><div style=\"display: table-cell;\">level&nbsp;=&nbsp;'glyph',</div></div><div class=\"p1050\" style=\"display: none;\"><div style=\"display: table-cell;\"></div><div style=\"display: table-cell;\">muted&nbsp;=&nbsp;False,</div></div><div class=\"p1050\" style=\"display: none;\"><div style=\"display: table-cell;\"></div><div style=\"display: table-cell;\">muted_glyph&nbsp;=&nbsp;Scatter(id='p1046', ...),</div></div><div class=\"p1050\" style=\"display: none;\"><div style=\"display: table-cell;\"></div><div style=\"display: table-cell;\">name&nbsp;=&nbsp;None,</div></div><div class=\"p1050\" style=\"display: none;\"><div style=\"display: table-cell;\"></div><div style=\"display: table-cell;\">nonselection_glyph&nbsp;=&nbsp;Scatter(id='p1045', ...),</div></div><div class=\"p1050\" style=\"display: none;\"><div style=\"display: table-cell;\"></div><div style=\"display: table-cell;\">propagate_hover&nbsp;=&nbsp;False,</div></div><div class=\"p1050\" style=\"display: none;\"><div style=\"display: table-cell;\"></div><div style=\"display: table-cell;\">selection_glyph&nbsp;=&nbsp;'auto',</div></div><div class=\"p1050\" style=\"display: none;\"><div style=\"display: table-cell;\"></div><div style=\"display: table-cell;\">styles&nbsp;=&nbsp;{},</div></div><div class=\"p1050\" style=\"display: none;\"><div style=\"display: table-cell;\"></div><div style=\"display: table-cell;\">stylesheets&nbsp;=&nbsp;[],</div></div><div class=\"p1050\" style=\"display: none;\"><div style=\"display: table-cell;\"></div><div style=\"display: table-cell;\">subscribed_events&nbsp;=&nbsp;PropertyValueSet(),</div></div><div class=\"p1050\" style=\"display: none;\"><div style=\"display: table-cell;\"></div><div style=\"display: table-cell;\">syncable&nbsp;=&nbsp;True,</div></div><div class=\"p1050\" style=\"display: none;\"><div style=\"display: table-cell;\"></div><div style=\"display: table-cell;\">tags&nbsp;=&nbsp;[],</div></div><div class=\"p1050\" style=\"display: none;\"><div style=\"display: table-cell;\"></div><div style=\"display: table-cell;\">view&nbsp;=&nbsp;CDSView(id='p1048', ...),</div></div><div class=\"p1050\" style=\"display: none;\"><div style=\"display: table-cell;\"></div><div style=\"display: table-cell;\">visible&nbsp;=&nbsp;True,</div></div><div class=\"p1050\" style=\"display: none;\"><div style=\"display: table-cell;\"></div><div style=\"display: table-cell;\">x_range_name&nbsp;=&nbsp;'default',</div></div><div class=\"p1050\" style=\"display: none;\"><div style=\"display: table-cell;\"></div><div style=\"display: table-cell;\">y_range_name&nbsp;=&nbsp;'default')</div></div></div>\n",
       "<script>\n",
       "(function() {\n",
       "  let expanded = false;\n",
       "  const ellipsis = document.getElementById(\"p1051\");\n",
       "  ellipsis.addEventListener(\"click\", function() {\n",
       "    const rows = document.getElementsByClassName(\"p1050\");\n",
       "    for (let i = 0; i < rows.length; i++) {\n",
       "      const el = rows[i];\n",
       "      el.style.display = expanded ? \"none\" : \"table-row\";\n",
       "    }\n",
       "    ellipsis.innerHTML = expanded ? \"&hellip;)\" : \"&lsaquo;&lsaquo;&lsaquo;\";\n",
       "    expanded = !expanded;\n",
       "  });\n",
       "})();\n",
       "</script>\n"
      ],
      "text/plain": [
       "GlyphRenderer(id='p1047', ...)"
      ]
     },
     "execution_count": 9,
     "metadata": {},
     "output_type": "execute_result"
    }
   ],
   "source": [
    "# Step 8: Bokeh Plot Setup\n",
    "source_data = {\n",
    "    'X': moisturizers_dry['X'],\n",
    "    'Y': moisturizers_dry['Y'],\n",
    "    'Name': moisturizers_dry['Name'],\n",
    "    'Brand': moisturizers_dry['Brand'],\n",
    "    'Price': moisturizers_dry['Price'],\n",
    "    'Rank': moisturizers_dry['Rank']\n",
    "}\n",
    "source = ColumnDataSource(source_data)\n",
    "\n",
    "\n",
    "# Create plot\n",
    "plot = figure(title=\"Moisturizers - Ingredient Similarity\", \n",
    "             width=800, height=600)\n",
    "# Add scatter plot\n",
    "plot.scatter('X', 'Y', size=10, source=source,\n",
    "            fill_alpha=0.6, color=\"navy\")\n"
   ]
  },
  {
   "cell_type": "markdown",
   "metadata": {
    "dc": {
     "key": "62"
    },
    "deletable": false,
    "editable": false,
    "run_control": {
     "frozen": true
    },
    "tags": [
     "context"
    ]
   },
   "source": [
    "## 9. Adding a hover tool\n",
    "<p>Why don't we add a hover tool? Adding a hover tool allows us to check the information of each item whenever the cursor is directly over a glyph. We'll add tooltips with each product's name, brand, price, and rank (i.e., rating).</p>"
   ]
  },
  {
   "cell_type": "code",
   "execution_count": 10,
   "metadata": {
    "dc": {
     "key": "62"
    },
    "tags": [
     "sample_code"
    ]
   },
   "outputs": [],
   "source": [
    "# Add Hover Tool\n",
    "hover = HoverTool(tooltips=[\n",
    "    (\"Product\", \"@Name\"),\n",
    "    (\"Brand\", \"@Brand\"),\n",
    "    (\"Price\", \"$@Price\"),\n",
    "    (\"Rating\", \"@Rank\")\n",
    "])\n",
    "plot.add_tools(hover)"
   ]
  },
  {
   "cell_type": "markdown",
   "metadata": {
    "dc": {
     "key": "69"
    },
    "deletable": false,
    "editable": false,
    "run_control": {
     "frozen": true
    },
    "tags": [
     "context"
    ]
   },
   "source": [
    "## 10. Mapping the cosmetic items\n",
    "<p>Finally, it's show time! Let's see how the map we've made looks like. Each point on the plot corresponds to the cosmetic items. Then what do the axes mean here? The axes of a t-SNE plot aren't easily interpretable in terms of the original data. Like mentioned above, t-SNE is a visualizing technique to plot high-dimensional data in a low-dimensional space. Therefore, it's not desirable to interpret a t-SNE plot quantitatively.</p>\n",
    "<p>Instead, what we can get from this map is the distance between the points (which items are close and which are far apart). The closer the distance between the two items is, the more similar the composition they have. Therefore this enables us to compare the items without having any chemistry background.</p>"
   ]
  },
  {
   "cell_type": "code",
   "execution_count": 11,
   "metadata": {},
   "outputs": [],
   "source": [
    "# Add Summary Stats\n",
    "avg_price = moisturizers_dry['Price'].mean()\n",
    "top_rated = moisturizers_dry.sort_values(\"Rank\").iloc[0][\"Name\"]\n",
    "summary = Div(text=f\"\"\"\n",
    "    <b>Average Price:</b> ${avg_price:.2f}<br>\n",
    "    <b>Top Product:</b> {top_rated}\n",
    "\"\"\")\n",
    "# Show plot\n",
    "show(column(summary, plot))\n"
   ]
  },
  {
   "cell_type": "markdown",
   "metadata": {
    "dc": {
     "key": "76"
    },
    "deletable": false,
    "editable": false,
    "run_control": {
     "frozen": true
    },
    "tags": [
     "context"
    ]
   },
   "source": [
    "## 11. Comparing two products\n",
    "<p>Since there are so many cosmetics and so many ingredients, the plot doesn't have many super obvious patterns that simpler t-SNE plots can have (<a href=\"https://campus.datacamp.com/courses/unsupervised-learning-in-python/visualization-with-hierarchical-clustering-and-t-sne?ex=10\">example</a>). Our plot requires some digging to find insights, but that's okay!</p>\n",
    "<p>Say we enjoyed a specific product, there's an increased chance we'd enjoy another product that is similar in chemical composition.  Say we enjoyed AmorePacific's <a href=\"https://www.sephora.com/product/color-control-cushion-compact-broad-spectrum-spf-50-P378121\">Color Control Cushion Compact Broad Spectrum SPF 50+</a>. We could find this product on the plot and see if a similar product(s) exist. And it turns out it does! If we look at the points furthest left on the plot, we see  LANEIGE's <a href=\"https://www.sephora.com/product/bb-cushion-hydra-radiance-P420676\">BB Cushion Hydra Radiance SPF 50</a> essentially overlaps with the AmorePacific product. By looking at the ingredients, we can visually confirm the compositions of the products are similar (<em>though it is difficult to do, which is why we did this analysis in the first place!</em>), plus LANEIGE's version is $22 cheaper and actually has higher ratings.</p>\n",
    "<p>It's not perfect, but it's useful. In real life, we can actually use our little ingredient-based recommendation engine help us make educated cosmetic purchase choices.</p>"
   ]
  },
  {
   "cell_type": "code",
   "execution_count": 12,
   "metadata": {
    "dc": {
     "key": "76"
    },
    "tags": [
     "sample_code"
    ]
   },
   "outputs": [
    {
     "data": {
      "text/html": [
       "<div>\n",
       "<style scoped>\n",
       "    .dataframe tbody tr th:only-of-type {\n",
       "        vertical-align: middle;\n",
       "    }\n",
       "\n",
       "    .dataframe tbody tr th {\n",
       "        vertical-align: top;\n",
       "    }\n",
       "\n",
       "    .dataframe thead th {\n",
       "        text-align: right;\n",
       "    }\n",
       "</style>\n",
       "<table border=\"1\" class=\"dataframe\">\n",
       "  <thead>\n",
       "    <tr style=\"text-align: right;\">\n",
       "      <th></th>\n",
       "      <th>Label</th>\n",
       "      <th>Brand</th>\n",
       "      <th>Name</th>\n",
       "      <th>Price</th>\n",
       "      <th>Rank</th>\n",
       "      <th>Ingredients</th>\n",
       "      <th>Combination</th>\n",
       "      <th>Dry</th>\n",
       "      <th>Normal</th>\n",
       "      <th>Oily</th>\n",
       "      <th>Sensitive</th>\n",
       "      <th>X</th>\n",
       "      <th>Y</th>\n",
       "    </tr>\n",
       "  </thead>\n",
       "  <tbody>\n",
       "    <tr>\n",
       "      <th>45</th>\n",
       "      <td>Moisturizer</td>\n",
       "      <td>AMOREPACIFIC</td>\n",
       "      <td>Color Control Cushion Compact Broad Spectrum S...</td>\n",
       "      <td>60</td>\n",
       "      <td>4.0</td>\n",
       "      <td>Phyllostachis Bambusoides Juice, Cyclopentasil...</td>\n",
       "      <td>1</td>\n",
       "      <td>1</td>\n",
       "      <td>1</td>\n",
       "      <td>1</td>\n",
       "      <td>1</td>\n",
       "      <td>-9.419198</td>\n",
       "      <td>-335.968231</td>\n",
       "    </tr>\n",
       "  </tbody>\n",
       "</table>\n",
       "</div>"
      ],
      "text/plain": [
       "          Label         Brand  \\\n",
       "45  Moisturizer  AMOREPACIFIC   \n",
       "\n",
       "                                                 Name  Price  Rank  \\\n",
       "45  Color Control Cushion Compact Broad Spectrum S...     60   4.0   \n",
       "\n",
       "                                          Ingredients  Combination  Dry  \\\n",
       "45  Phyllostachis Bambusoides Juice, Cyclopentasil...            1    1   \n",
       "\n",
       "    Normal  Oily  Sensitive         X           Y  \n",
       "45       1     1          1 -9.419198 -335.968231  "
      ]
     },
     "metadata": {},
     "output_type": "display_data"
    },
    {
     "name": "stdout",
     "output_type": "stream",
     "text": [
      "['Phyllostachis Bambusoides Juice, Cyclopentasiloxane, Cyclohexasiloxane, Peg-10 Dimethicone, Phenyl Trimethicone, Butylene Glycol, Butylene Glycol Dicaprylate/Dicaprate, Alcohol, Arbutin, Lauryl Peg-9 Polydimethylsiloxyethyl Dimethicone, Acrylates/Ethylhexyl Acrylate/Dimethicone Methacrylate Copolymer, Polyhydroxystearic Acid, Sodium Chloride, Polymethyl Methacrylate, Aluminium Hydroxide, Stearic Acid, Disteardimonium Hectorite, Triethoxycaprylylsilane, Ethylhexyl Palmitate, Lecithin, Isostearic Acid, Isopropyl Palmitate, Phenoxyethanol, Polyglyceryl-3 Polyricinoleate, Acrylates/Stearyl Acrylate/Dimethicone Methacrylate Copolymer, Dimethicone, Disodium Edta, Trimethylsiloxysilicate, Ethylhexyglycerin, Dimethicone/Vinyl Dimethicone Crosspolymer, Water, Silica, Camellia Japonica Seed Oil, Camillia Sinensis Leaf Extract, Caprylyl Glycol, 1,2-Hexanediol, Fragrance, Titanium Dioxide, Iron Oxides (Ci 77492, Ci 77491, Ci77499).']\n"
     ]
    },
    {
     "data": {
      "text/html": [
       "<div>\n",
       "<style scoped>\n",
       "    .dataframe tbody tr th:only-of-type {\n",
       "        vertical-align: middle;\n",
       "    }\n",
       "\n",
       "    .dataframe tbody tr th {\n",
       "        vertical-align: top;\n",
       "    }\n",
       "\n",
       "    .dataframe thead th {\n",
       "        text-align: right;\n",
       "    }\n",
       "</style>\n",
       "<table border=\"1\" class=\"dataframe\">\n",
       "  <thead>\n",
       "    <tr style=\"text-align: right;\">\n",
       "      <th></th>\n",
       "      <th>Label</th>\n",
       "      <th>Brand</th>\n",
       "      <th>Name</th>\n",
       "      <th>Price</th>\n",
       "      <th>Rank</th>\n",
       "      <th>Ingredients</th>\n",
       "      <th>Combination</th>\n",
       "      <th>Dry</th>\n",
       "      <th>Normal</th>\n",
       "      <th>Oily</th>\n",
       "      <th>Sensitive</th>\n",
       "      <th>X</th>\n",
       "      <th>Y</th>\n",
       "    </tr>\n",
       "  </thead>\n",
       "  <tbody>\n",
       "    <tr>\n",
       "      <th>55</th>\n",
       "      <td>Moisturizer</td>\n",
       "      <td>LANEIGE</td>\n",
       "      <td>BB Cushion Hydra Radiance SPF 50</td>\n",
       "      <td>38</td>\n",
       "      <td>4.3</td>\n",
       "      <td>Water, Cyclopentasiloxane, Zinc Oxide (CI 7794...</td>\n",
       "      <td>1</td>\n",
       "      <td>1</td>\n",
       "      <td>1</td>\n",
       "      <td>1</td>\n",
       "      <td>1</td>\n",
       "      <td>-31.170496</td>\n",
       "      <td>-359.229309</td>\n",
       "    </tr>\n",
       "  </tbody>\n",
       "</table>\n",
       "</div>"
      ],
      "text/plain": [
       "          Label    Brand                              Name  Price  Rank  \\\n",
       "55  Moisturizer  LANEIGE  BB Cushion Hydra Radiance SPF 50     38   4.3   \n",
       "\n",
       "                                          Ingredients  Combination  Dry  \\\n",
       "55  Water, Cyclopentasiloxane, Zinc Oxide (CI 7794...            1    1   \n",
       "\n",
       "    Normal  Oily  Sensitive          X           Y  \n",
       "55       1     1          1 -31.170496 -359.229309  "
      ]
     },
     "metadata": {},
     "output_type": "display_data"
    },
    {
     "name": "stdout",
     "output_type": "stream",
     "text": [
      "['Water, Cyclopentasiloxane, Zinc Oxide (CI 77947), Ethylhexyl Methoxycinnamate, PEG-10 Dimethicone, Cyclohexasiloxane, Phenyl Trimethicone, Iron Oxides (CI 77492), Butylene Glycol Dicaprylate/Dicaprate, Niacinamide, Lauryl PEG-9 Polydimethylsiloxyethyl Dimethicone, Acrylates/Ethylhexyl Acrylate/Dimethicone Methacrylate Copolymer, Titanium Dioxide (CI 77891 , Iron Oxides (CI 77491), Butylene Glycol, Sodium Chloride, Iron Oxides (CI 77499), Aluminum Hydroxide, HDI/Trimethylol Hexyllactone Crosspolymer, Stearic Acid, Methyl Methacrylate Crosspolymer, Triethoxycaprylylsilane, Phenoxyethanol, Fragrance, Disteardimonium Hectorite, Caprylyl Glycol, Yeast Extract, Acrylates/Stearyl Acrylate/Dimethicone Methacrylate Copolymer, Dimethicone, Trimethylsiloxysilicate, Polysorbate 80, Disodium EDTA, Hydrogenated Lecithin, Dimethicone/Vinyl Dimethicone Crosspolymer, Mica (CI 77019), Silica, 1,2-Hexanediol, Polypropylsilsesquioxane, Chenopodium Quinoa Seed Extract, Magnesium Sulfate, Calcium Chloride, Camellia Sinensis Leaf Extract, Manganese Sulfate, Zinc Sulfate, Ascorbyl Glucoside.']\n"
     ]
    }
   ],
   "source": [
    "# Print the ingredients of two similar cosmetics\n",
    "cosmetic_1 = moisturizers_dry[moisturizers_dry['Name'] == \"Color Control Cushion Compact Broad Spectrum SPF 50+\"]\n",
    "cosmetic_2 = moisturizers_dry[moisturizers_dry['Name'] == \"BB Cushion Hydra Radiance SPF 50\"]\n",
    "\n",
    "# Display each item's data and ingredients\n",
    "display(cosmetic_1)\n",
    "print(cosmetic_1.Ingredients.values)\n",
    "display(cosmetic_2)\n",
    "print(cosmetic_2.Ingredients.values)"
   ]
  },
  {
   "cell_type": "markdown",
   "metadata": {},
   "source": [
    "Detailed comparison of products"
   ]
  },
  {
   "cell_type": "code",
   "execution_count": 13,
   "metadata": {},
   "outputs": [
    {
     "data": {
      "application/vnd.jupyter.widget-view+json": {
       "model_id": "15ea6073dd6840b6bb16c09345aab286",
       "version_major": 2,
       "version_minor": 0
      },
      "text/plain": [
       "HBox(children=(Dropdown(description='Product 1', options=(('100 percent Pure Argan Oil', 24), ('100 percent Pu…"
      ]
     },
     "metadata": {},
     "output_type": "display_data"
    },
    {
     "data": {
      "application/vnd.jupyter.widget-view+json": {
       "model_id": "d5431f461a934bf2bce04482397af541",
       "version_major": 2,
       "version_minor": 0
      },
      "text/plain": [
       "Output()"
      ]
     },
     "metadata": {},
     "output_type": "display_data"
    }
   ],
   "source": [
    "# Allergen keywords to check\n",
    "allergen_keywords = ['fragrance', 'alcohol', 'paraben', 'sulfate', 'benzyl', 'linalool', 'limonene']\n",
    "\n",
    "\n",
    "def check_allergens(ingredients_set):\n",
    "    return [a for a in allergen_keywords if any(a in ing for ing in ingredients_set)]\n",
    "\n",
    "# Helper: Plot Venn diagram\n",
    "def plot_venn(ing1, ing2, label1, label2):\n",
    "    plt.figure(figsize=(6, 4))\n",
    "    venn2([ing1, ing2], set_labels=(label1, label2))\n",
    "    plt.title(\"Ingredient Overlap\")\n",
    "    plt.show()\n",
    "\n",
    "# Helper: Plot similarity gauge\n",
    "def plot_similarity(sim_score):\n",
    "    plt.figure(figsize=(5, 1))\n",
    "    plt.barh([0], [sim_score], color='green')\n",
    "    plt.xlim(0, 1)\n",
    "    plt.title(f\"Cosine Similarity: {sim_score:.2f}\")\n",
    "    plt.yticks([])\n",
    "    plt.show()\n",
    "\n",
    "# Helper: Plot side-by-side metrics\n",
    "def plot_metrics_comparison(p1, p2):\n",
    "    metrics = ['Price', 'Rank', 'Combination', 'Dry', 'Normal', 'Oily', 'Sensitive']\n",
    "    p1_vals = [p1[m] for m in metrics]\n",
    "    p2_vals = [p2[m] for m in metrics]\n",
    "\n",
    "    x = range(len(metrics))\n",
    "    plt.figure(figsize=(10, 4))\n",
    "    plt.bar(x, p1_vals, width=0.4, label=p1['Name'], align='center')\n",
    "    plt.bar([i + 0.4 for i in x], p2_vals, width=0.4, label=p2['Name'], align='center')\n",
    "    plt.xticks([i + 0.2 for i in x], metrics, rotation=45)\n",
    "    plt.title(\"Metric Comparison\")\n",
    "    plt.legend()\n",
    "    plt.tight_layout()\n",
    "    plt.show()\n",
    "\n",
    "# Core comparison function\n",
    "def compare_products_full(index1, index2):\n",
    "    product1 = moisturizers_dry.iloc[index1]\n",
    "    product2 = moisturizers_dry.iloc[index2]\n",
    "\n",
    "    sim = cosine_similarity([A[index1]], [A[index2]])[0][0]\n",
    "\n",
    "    ingredients1 = set(ing.strip().lower() for ing in product1['Ingredients'].split(','))\n",
    "    ingredients2 = set(ing.strip().lower() for ing in product2['Ingredients'].split(','))\n",
    "\n",
    "    common_ingredients = ingredients1 & ingredients2\n",
    "    unique_to_1 = ingredients1 - ingredients2\n",
    "    unique_to_2 = ingredients2 - ingredients1\n",
    "\n",
    "    allergens1 = check_allergens(ingredients1)\n",
    "    allergens2 = check_allergens(ingredients2)\n",
    "\n",
    "    price_diff = product1['Price'] - product2['Price']\n",
    "    rank_diff = product1['Rank'] - product2['Rank']\n",
    "\n",
    "    with output:\n",
    "        output.clear_output()\n",
    "        print(f\"\\n=== COMPARISON: \\\"{product1['Name']}\\\" vs \\\"{product2['Name']}\\\" ===\")\n",
    "        print(f\"Brand: {product1['Brand']} | {product2['Brand']}\")\n",
    "        print(f\"Cosine Similarity (Ingredients): {sim:.2f}\")\n",
    "        print(f\"Price: ${product1['Price']:.2f} | ${product2['Price']:.2f} (Δ ${abs(price_diff):.2f})\")\n",
    "        print(f\"Rank: {product1['Rank']} | {product2['Rank']} (Δ {abs(rank_diff)} stars)\")\n",
    "\n",
    "        print(\"\\nSkin Types (1 = Suitable, 0 = Not):\")\n",
    "        for skin in ['Combination', 'Dry', 'Normal', 'Oily', 'Sensitive']:\n",
    "            print(f\"{skin}: {product1[skin]} | {product2[skin]}\")\n",
    "\n",
    "        print(\"\\n=== INGREDIENTS ===\")\n",
    "        print(f\"Common Ingredients ({len(common_ingredients)}):\")\n",
    "        print(', '.join(sorted(common_ingredients)) if common_ingredients else \"None\")\n",
    "\n",
    "        print(f\"\\nUnique to \\\"{product1['Name']}\\\" ({len(unique_to_1)}):\")\n",
    "        print(', '.join(sorted(unique_to_1)) if unique_to_1 else \"None\")\n",
    "\n",
    "        print(f\"\\nUnique to \\\"{product2['Name']}\\\" ({len(unique_to_2)}):\")\n",
    "        print(', '.join(sorted(unique_to_2)) if unique_to_2 else \"None\")\n",
    "\n",
    "        print(\"\\n=== ALLERGENS ===\")\n",
    "        print(f\"{product1['Name']}: {', '.join(allergens1) if allergens1 else 'None'}\")\n",
    "        print(f\"{product2['Name']}: {', '.join(allergens2) if allergens2 else 'None'}\")\n",
    "\n",
    "        # Visuals\n",
    "        plot_similarity(sim)\n",
    "        plot_venn(ingredients1, ingredients2, product1['Name'], product2['Name'])\n",
    "        plot_metrics_comparison(product1, product2)\n",
    "\n",
    "# Dropdowns & Button\n",
    "sorted_names = sorted([(name, idx) for idx, name in enumerate(moisturizers_dry['Name'])], key=lambda x: x[0])\n",
    "\n",
    "dropdown1 = widgets.Dropdown(options=sorted_names, description='Product 1')\n",
    "dropdown2 = widgets.Dropdown(options=sorted_names, description='Product 2')\n",
    "compare_button = widgets.Button(description='Compare Products', button_style='success')\n",
    "output = widgets.Output()\n",
    "\n",
    "def on_compare_clicked(b):\n",
    "    compare_products_full(dropdown1.value, dropdown2.value)\n",
    "\n",
    "compare_button.on_click(on_compare_clicked)\n",
    "\n",
    "# Display UI\n",
    "display(widgets.HBox([dropdown1, dropdown2, compare_button]), output)\n"
   ]
  },
  {
   "cell_type": "markdown",
   "metadata": {},
   "source": [
    "### TOP 20 COMMON INGREDIENTS\n",
    "Let us also see the TOP 20 commonly used ingredients in Moisturizers for dry skin "
   ]
  },
  {
   "cell_type": "code",
   "execution_count": 14,
   "metadata": {},
   "outputs": [
    {
     "data": {
      "image/png": "[encoded data removed]",
      "text/plain": [
       "<Figure size 1200x500 with 1 Axes>"
      ]
     },
     "metadata": {},
     "output_type": "display_data"
    }
   ],
   "source": [
    "# Ingredient Frequency Visualization\n",
    "flat_ingredients = [item for sublist in corpus for item in sublist]\n",
    "counter = Counter(flat_ingredients)\n",
    "common = counter.most_common(20)\n",
    "\n",
    "ingredients, counts = zip(*common)\n",
    "plt.figure(figsize=(12,5))\n",
    "plt.barh(ingredients[::-1], counts[::-1])\n",
    "plt.title(\"Top 20 Most Common Ingredients in Moisturizers for Dry Skin\")\n",
    "plt.xlabel(\"Frequency\")\n",
    "plt.tight_layout()\n",
    "plt.show()\n"
   ]
  },
  {
   "cell_type": "code",
   "execution_count": 15,
   "metadata": {},
   "outputs": [],
   "source": [
    "# Save enhanced data and matrices for use in enhancement tools\n",
    "moisturizers_dry.to_csv(\"moisturizers_dry.csv\", index=False)\n",
    "np.save(\"ingredient_matrix.npy\", A)\n",
    "np.save(\"corpus.npy\", np.array(corpus, dtype=object))\n"
   ]
  }
 ],
 "metadata": {
  "kernelspec": {
   "display_name": "Python 3",
   "language": "python",
   "name": "python3"
  },
  "language_info": {
   "codemirror_mode": {
    "name": "ipython",
    "version": 3
   },
   "file_extension": ".py",
   "mimetype": "text/x-python",
   "name": "python",
   "nbconvert_exporter": "python",
   "pygments_lexer": "ipython3",
   "version": "3.11.9"
  }
 },
 "nbformat": 4,
 "nbformat_minor": 2
}
